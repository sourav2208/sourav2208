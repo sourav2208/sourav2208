{
  "nbformat": 4,
  "nbformat_minor": 0,
  "metadata": {
    "colab": {
      "provenance": [],
      "authorship_tag": "ABX9TyPJMr6VFf168IuVt7/3DGef",
      "include_colab_link": true
    },
    "kernelspec": {
      "name": "python3",
      "display_name": "Python 3"
    },
    "language_info": {
      "name": "python"
    }
  },
  "cells": [
    {
      "cell_type": "markdown",
      "metadata": {
        "id": "view-in-github",
        "colab_type": "text"
      },
      "source": [
        "<a href=\"https://colab.research.google.com/github/sourav2208/sourav2208/blob/main/Bike_Sharing_Data_Analysis.ipynb\" target=\"_parent\"><img src=\"https://colab.research.google.com/assets/colab-badge.svg\" alt=\"Open In Colab\"/></a>"
      ]
    },
    {
      "cell_type": "code",
      "execution_count": 6,
      "metadata": {
        "id": "V6snpRJ4k4zT"
      },
      "outputs": [],
      "source": [
        "import pandas as pd  #Importing pandas for data handling\n",
        "import numpy as np  #Importing numpy for numerical operations\n",
        "import matplotlib.pyplot as plt  #Importing matplotlib for visualization\n",
        "import seaborn as sns  #seaborn for enhanced visualizations\n",
        "import folium  #folium for mapping stations\n",
        "from datetime import datetime  #datetime for date conversions"
      ]
    },
    {
      "cell_type": "code",
      "source": [
        "#mount drive\n",
        "from google.colab import drive\n",
        "drive.mount('/content/drive')"
      ],
      "metadata": {
        "id": "c5dKUqH2lMUK",
        "colab": {
          "base_uri": "https://localhost:8080/"
        },
        "outputId": "67255d5d-1f8a-419c-855b-1e4356319566"
      },
      "execution_count": 7,
      "outputs": [
        {
          "output_type": "stream",
          "name": "stdout",
          "text": [
            "Drive already mounted at /content/drive; to attempt to forcibly remount, call drive.mount(\"/content/drive\", force_remount=True).\n"
          ]
        }
      ]
    },
    {
      "cell_type": "code",
      "source": [
        "# Load Dataset\n",
        "df = pd.read_csv('/content/drive/MyDrive/station.csv')"
      ],
      "metadata": {
        "id": "1xvDkxNClrIx"
      },
      "execution_count": 10,
      "outputs": []
    },
    {
      "cell_type": "code",
      "source": [
        "# Dataset First Look\n",
        "df.head()"
      ],
      "metadata": {
        "colab": {
          "base_uri": "https://localhost:8080/",
          "height": 206
        },
        "id": "kK0nDiPhnKOy",
        "outputId": "6c00c076-6c68-47ae-a44a-92dbc42bc627"
      },
      "execution_count": 12,
      "outputs": [
        {
          "output_type": "execute_result",
          "data": {
            "text/plain": [
              "  station_id                    name        lat        long install_date  \\\n",
              "0      BT-01      3rd Ave & Broad St  47.618418 -122.350964   10/13/2014   \n",
              "1      BT-03       2nd Ave & Vine St  47.615829 -122.348564   10/13/2014   \n",
              "2      BT-04  6th Ave & Blanchard St  47.616094 -122.341102   10/13/2014   \n",
              "3      BT-05  2nd Ave & Blanchard St  47.613110 -122.344208   10/13/2014   \n",
              "4     CBD-03      7th Ave & Union St  47.610731 -122.332447   10/13/2014   \n",
              "\n",
              "   install_dockcount modification_date  current_dockcount decommission_date  \n",
              "0                 18               NaN                 18               NaN  \n",
              "1                 16               NaN                 16               NaN  \n",
              "2                 16               NaN                 16               NaN  \n",
              "3                 14               NaN                 14               NaN  \n",
              "4                 20               NaN                 20               NaN  "
            ],
            "text/html": [
              "\n",
              "  <div id=\"df-a7c17a51-840f-41e3-85fb-6d3b1cc55625\" class=\"colab-df-container\">\n",
              "    <div>\n",
              "<style scoped>\n",
              "    .dataframe tbody tr th:only-of-type {\n",
              "        vertical-align: middle;\n",
              "    }\n",
              "\n",
              "    .dataframe tbody tr th {\n",
              "        vertical-align: top;\n",
              "    }\n",
              "\n",
              "    .dataframe thead th {\n",
              "        text-align: right;\n",
              "    }\n",
              "</style>\n",
              "<table border=\"1\" class=\"dataframe\">\n",
              "  <thead>\n",
              "    <tr style=\"text-align: right;\">\n",
              "      <th></th>\n",
              "      <th>station_id</th>\n",
              "      <th>name</th>\n",
              "      <th>lat</th>\n",
              "      <th>long</th>\n",
              "      <th>install_date</th>\n",
              "      <th>install_dockcount</th>\n",
              "      <th>modification_date</th>\n",
              "      <th>current_dockcount</th>\n",
              "      <th>decommission_date</th>\n",
              "    </tr>\n",
              "  </thead>\n",
              "  <tbody>\n",
              "    <tr>\n",
              "      <th>0</th>\n",
              "      <td>BT-01</td>\n",
              "      <td>3rd Ave &amp; Broad St</td>\n",
              "      <td>47.618418</td>\n",
              "      <td>-122.350964</td>\n",
              "      <td>10/13/2014</td>\n",
              "      <td>18</td>\n",
              "      <td>NaN</td>\n",
              "      <td>18</td>\n",
              "      <td>NaN</td>\n",
              "    </tr>\n",
              "    <tr>\n",
              "      <th>1</th>\n",
              "      <td>BT-03</td>\n",
              "      <td>2nd Ave &amp; Vine St</td>\n",
              "      <td>47.615829</td>\n",
              "      <td>-122.348564</td>\n",
              "      <td>10/13/2014</td>\n",
              "      <td>16</td>\n",
              "      <td>NaN</td>\n",
              "      <td>16</td>\n",
              "      <td>NaN</td>\n",
              "    </tr>\n",
              "    <tr>\n",
              "      <th>2</th>\n",
              "      <td>BT-04</td>\n",
              "      <td>6th Ave &amp; Blanchard St</td>\n",
              "      <td>47.616094</td>\n",
              "      <td>-122.341102</td>\n",
              "      <td>10/13/2014</td>\n",
              "      <td>16</td>\n",
              "      <td>NaN</td>\n",
              "      <td>16</td>\n",
              "      <td>NaN</td>\n",
              "    </tr>\n",
              "    <tr>\n",
              "      <th>3</th>\n",
              "      <td>BT-05</td>\n",
              "      <td>2nd Ave &amp; Blanchard St</td>\n",
              "      <td>47.613110</td>\n",
              "      <td>-122.344208</td>\n",
              "      <td>10/13/2014</td>\n",
              "      <td>14</td>\n",
              "      <td>NaN</td>\n",
              "      <td>14</td>\n",
              "      <td>NaN</td>\n",
              "    </tr>\n",
              "    <tr>\n",
              "      <th>4</th>\n",
              "      <td>CBD-03</td>\n",
              "      <td>7th Ave &amp; Union St</td>\n",
              "      <td>47.610731</td>\n",
              "      <td>-122.332447</td>\n",
              "      <td>10/13/2014</td>\n",
              "      <td>20</td>\n",
              "      <td>NaN</td>\n",
              "      <td>20</td>\n",
              "      <td>NaN</td>\n",
              "    </tr>\n",
              "  </tbody>\n",
              "</table>\n",
              "</div>\n",
              "    <div class=\"colab-df-buttons\">\n",
              "\n",
              "  <div class=\"colab-df-container\">\n",
              "    <button class=\"colab-df-convert\" onclick=\"convertToInteractive('df-a7c17a51-840f-41e3-85fb-6d3b1cc55625')\"\n",
              "            title=\"Convert this dataframe to an interactive table.\"\n",
              "            style=\"display:none;\">\n",
              "\n",
              "  <svg xmlns=\"http://www.w3.org/2000/svg\" height=\"24px\" viewBox=\"0 -960 960 960\">\n",
              "    <path d=\"M120-120v-720h720v720H120Zm60-500h600v-160H180v160Zm220 220h160v-160H400v160Zm0 220h160v-160H400v160ZM180-400h160v-160H180v160Zm440 0h160v-160H620v160ZM180-180h160v-160H180v160Zm440 0h160v-160H620v160Z\"/>\n",
              "  </svg>\n",
              "    </button>\n",
              "\n",
              "  <style>\n",
              "    .colab-df-container {\n",
              "      display:flex;\n",
              "      gap: 12px;\n",
              "    }\n",
              "\n",
              "    .colab-df-convert {\n",
              "      background-color: #E8F0FE;\n",
              "      border: none;\n",
              "      border-radius: 50%;\n",
              "      cursor: pointer;\n",
              "      display: none;\n",
              "      fill: #1967D2;\n",
              "      height: 32px;\n",
              "      padding: 0 0 0 0;\n",
              "      width: 32px;\n",
              "    }\n",
              "\n",
              "    .colab-df-convert:hover {\n",
              "      background-color: #E2EBFA;\n",
              "      box-shadow: 0px 1px 2px rgba(60, 64, 67, 0.3), 0px 1px 3px 1px rgba(60, 64, 67, 0.15);\n",
              "      fill: #174EA6;\n",
              "    }\n",
              "\n",
              "    .colab-df-buttons div {\n",
              "      margin-bottom: 4px;\n",
              "    }\n",
              "\n",
              "    [theme=dark] .colab-df-convert {\n",
              "      background-color: #3B4455;\n",
              "      fill: #D2E3FC;\n",
              "    }\n",
              "\n",
              "    [theme=dark] .colab-df-convert:hover {\n",
              "      background-color: #434B5C;\n",
              "      box-shadow: 0px 1px 3px 1px rgba(0, 0, 0, 0.15);\n",
              "      filter: drop-shadow(0px 1px 2px rgba(0, 0, 0, 0.3));\n",
              "      fill: #FFFFFF;\n",
              "    }\n",
              "  </style>\n",
              "\n",
              "    <script>\n",
              "      const buttonEl =\n",
              "        document.querySelector('#df-a7c17a51-840f-41e3-85fb-6d3b1cc55625 button.colab-df-convert');\n",
              "      buttonEl.style.display =\n",
              "        google.colab.kernel.accessAllowed ? 'block' : 'none';\n",
              "\n",
              "      async function convertToInteractive(key) {\n",
              "        const element = document.querySelector('#df-a7c17a51-840f-41e3-85fb-6d3b1cc55625');\n",
              "        const dataTable =\n",
              "          await google.colab.kernel.invokeFunction('convertToInteractive',\n",
              "                                                    [key], {});\n",
              "        if (!dataTable) return;\n",
              "\n",
              "        const docLinkHtml = 'Like what you see? Visit the ' +\n",
              "          '<a target=\"_blank\" href=https://colab.research.google.com/notebooks/data_table.ipynb>data table notebook</a>'\n",
              "          + ' to learn more about interactive tables.';\n",
              "        element.innerHTML = '';\n",
              "        dataTable['output_type'] = 'display_data';\n",
              "        await google.colab.output.renderOutput(dataTable, element);\n",
              "        const docLink = document.createElement('div');\n",
              "        docLink.innerHTML = docLinkHtml;\n",
              "        element.appendChild(docLink);\n",
              "      }\n",
              "    </script>\n",
              "  </div>\n",
              "\n",
              "\n",
              "<div id=\"df-218b59dd-d72b-450d-a9c4-1ca71b3cffb4\">\n",
              "  <button class=\"colab-df-quickchart\" onclick=\"quickchart('df-218b59dd-d72b-450d-a9c4-1ca71b3cffb4')\"\n",
              "            title=\"Suggest charts\"\n",
              "            style=\"display:none;\">\n",
              "\n",
              "<svg xmlns=\"http://www.w3.org/2000/svg\" height=\"24px\"viewBox=\"0 0 24 24\"\n",
              "     width=\"24px\">\n",
              "    <g>\n",
              "        <path d=\"M19 3H5c-1.1 0-2 .9-2 2v14c0 1.1.9 2 2 2h14c1.1 0 2-.9 2-2V5c0-1.1-.9-2-2-2zM9 17H7v-7h2v7zm4 0h-2V7h2v10zm4 0h-2v-4h2v4z\"/>\n",
              "    </g>\n",
              "</svg>\n",
              "  </button>\n",
              "\n",
              "<style>\n",
              "  .colab-df-quickchart {\n",
              "      --bg-color: #E8F0FE;\n",
              "      --fill-color: #1967D2;\n",
              "      --hover-bg-color: #E2EBFA;\n",
              "      --hover-fill-color: #174EA6;\n",
              "      --disabled-fill-color: #AAA;\n",
              "      --disabled-bg-color: #DDD;\n",
              "  }\n",
              "\n",
              "  [theme=dark] .colab-df-quickchart {\n",
              "      --bg-color: #3B4455;\n",
              "      --fill-color: #D2E3FC;\n",
              "      --hover-bg-color: #434B5C;\n",
              "      --hover-fill-color: #FFFFFF;\n",
              "      --disabled-bg-color: #3B4455;\n",
              "      --disabled-fill-color: #666;\n",
              "  }\n",
              "\n",
              "  .colab-df-quickchart {\n",
              "    background-color: var(--bg-color);\n",
              "    border: none;\n",
              "    border-radius: 50%;\n",
              "    cursor: pointer;\n",
              "    display: none;\n",
              "    fill: var(--fill-color);\n",
              "    height: 32px;\n",
              "    padding: 0;\n",
              "    width: 32px;\n",
              "  }\n",
              "\n",
              "  .colab-df-quickchart:hover {\n",
              "    background-color: var(--hover-bg-color);\n",
              "    box-shadow: 0 1px 2px rgba(60, 64, 67, 0.3), 0 1px 3px 1px rgba(60, 64, 67, 0.15);\n",
              "    fill: var(--button-hover-fill-color);\n",
              "  }\n",
              "\n",
              "  .colab-df-quickchart-complete:disabled,\n",
              "  .colab-df-quickchart-complete:disabled:hover {\n",
              "    background-color: var(--disabled-bg-color);\n",
              "    fill: var(--disabled-fill-color);\n",
              "    box-shadow: none;\n",
              "  }\n",
              "\n",
              "  .colab-df-spinner {\n",
              "    border: 2px solid var(--fill-color);\n",
              "    border-color: transparent;\n",
              "    border-bottom-color: var(--fill-color);\n",
              "    animation:\n",
              "      spin 1s steps(1) infinite;\n",
              "  }\n",
              "\n",
              "  @keyframes spin {\n",
              "    0% {\n",
              "      border-color: transparent;\n",
              "      border-bottom-color: var(--fill-color);\n",
              "      border-left-color: var(--fill-color);\n",
              "    }\n",
              "    20% {\n",
              "      border-color: transparent;\n",
              "      border-left-color: var(--fill-color);\n",
              "      border-top-color: var(--fill-color);\n",
              "    }\n",
              "    30% {\n",
              "      border-color: transparent;\n",
              "      border-left-color: var(--fill-color);\n",
              "      border-top-color: var(--fill-color);\n",
              "      border-right-color: var(--fill-color);\n",
              "    }\n",
              "    40% {\n",
              "      border-color: transparent;\n",
              "      border-right-color: var(--fill-color);\n",
              "      border-top-color: var(--fill-color);\n",
              "    }\n",
              "    60% {\n",
              "      border-color: transparent;\n",
              "      border-right-color: var(--fill-color);\n",
              "    }\n",
              "    80% {\n",
              "      border-color: transparent;\n",
              "      border-right-color: var(--fill-color);\n",
              "      border-bottom-color: var(--fill-color);\n",
              "    }\n",
              "    90% {\n",
              "      border-color: transparent;\n",
              "      border-bottom-color: var(--fill-color);\n",
              "    }\n",
              "  }\n",
              "</style>\n",
              "\n",
              "  <script>\n",
              "    async function quickchart(key) {\n",
              "      const quickchartButtonEl =\n",
              "        document.querySelector('#' + key + ' button');\n",
              "      quickchartButtonEl.disabled = true;  // To prevent multiple clicks.\n",
              "      quickchartButtonEl.classList.add('colab-df-spinner');\n",
              "      try {\n",
              "        const charts = await google.colab.kernel.invokeFunction(\n",
              "            'suggestCharts', [key], {});\n",
              "      } catch (error) {\n",
              "        console.error('Error during call to suggestCharts:', error);\n",
              "      }\n",
              "      quickchartButtonEl.classList.remove('colab-df-spinner');\n",
              "      quickchartButtonEl.classList.add('colab-df-quickchart-complete');\n",
              "    }\n",
              "    (() => {\n",
              "      let quickchartButtonEl =\n",
              "        document.querySelector('#df-218b59dd-d72b-450d-a9c4-1ca71b3cffb4 button');\n",
              "      quickchartButtonEl.style.display =\n",
              "        google.colab.kernel.accessAllowed ? 'block' : 'none';\n",
              "    })();\n",
              "  </script>\n",
              "</div>\n",
              "\n",
              "    </div>\n",
              "  </div>\n"
            ],
            "application/vnd.google.colaboratory.intrinsic+json": {
              "type": "dataframe",
              "variable_name": "df",
              "summary": "{\n  \"name\": \"df\",\n  \"rows\": 58,\n  \"fields\": [\n    {\n      \"column\": \"station_id\",\n      \"properties\": {\n        \"dtype\": \"string\",\n        \"num_unique_values\": 58,\n        \"samples\": [\n          \"BT-01\",\n          \"CBD-04\",\n          \"SLU-07\"\n        ],\n        \"semantic_type\": \"\",\n        \"description\": \"\"\n      }\n    },\n    {\n      \"column\": \"name\",\n      \"properties\": {\n        \"dtype\": \"string\",\n        \"num_unique_values\": 58,\n        \"samples\": [\n          \"3rd Ave & Broad St\",\n          \"Union St & 4th Ave\",\n          \"PATH / 9th Ave & Westlake Ave\"\n        ],\n        \"semantic_type\": \"\",\n        \"description\": \"\"\n      }\n    },\n    {\n      \"column\": \"lat\",\n      \"properties\": {\n        \"dtype\": \"number\",\n        \"std\": 0.019065762748969935,\n        \"min\": 47.598488,\n        \"max\": 47.666145,\n        \"num_unique_values\": 58,\n        \"samples\": [\n          47.618418,\n          47.609221,\n          47.61832\n        ],\n        \"semantic_type\": \"\",\n        \"description\": \"\"\n      }\n    },\n    {\n      \"column\": \"long\",\n      \"properties\": {\n        \"dtype\": \"number\",\n        \"std\": 0.014956664123889931,\n        \"min\": -122.35523,\n        \"max\": -122.284119,\n        \"num_unique_values\": 58,\n        \"samples\": [\n          -122.350964,\n          -122.335596,\n          -122.338913\n        ],\n        \"semantic_type\": \"\",\n        \"description\": \"\"\n      }\n    },\n    {\n      \"column\": \"install_date\",\n      \"properties\": {\n        \"dtype\": \"object\",\n        \"num_unique_values\": 9,\n        \"samples\": [\n          \"10/29/2015\",\n          \"7/27/2015\",\n          \"3/18/2016\"\n        ],\n        \"semantic_type\": \"\",\n        \"description\": \"\"\n      }\n    },\n    {\n      \"column\": \"install_dockcount\",\n      \"properties\": {\n        \"dtype\": \"number\",\n        \"std\": 3,\n        \"min\": 12,\n        \"max\": 30,\n        \"num_unique_values\": 7,\n        \"samples\": [\n          18,\n          16,\n          30\n        ],\n        \"semantic_type\": \"\",\n        \"description\": \"\"\n      }\n    },\n    {\n      \"column\": \"modification_date\",\n      \"properties\": {\n        \"dtype\": \"date\",\n        \"min\": \"2015-02-20 00:00:00\",\n        \"max\": \"2016-08-09 00:00:00\",\n        \"num_unique_values\": 12,\n        \"samples\": [\n          \"10/29/2015\",\n          \"3/4/2015\",\n          \"11/9/2015\"\n        ],\n        \"semantic_type\": \"\",\n        \"description\": \"\"\n      }\n    },\n    {\n      \"column\": \"current_dockcount\",\n      \"properties\": {\n        \"dtype\": \"number\",\n        \"std\": 5,\n        \"min\": 0,\n        \"max\": 26,\n        \"num_unique_values\": 7,\n        \"samples\": [\n          18,\n          16,\n          26\n        ],\n        \"semantic_type\": \"\",\n        \"description\": \"\"\n      }\n    },\n    {\n      \"column\": \"decommission_date\",\n      \"properties\": {\n        \"dtype\": \"date\",\n        \"min\": \"2015-10-29 00:00:00\",\n        \"max\": \"2016-08-09 00:00:00\",\n        \"num_unique_values\": 4,\n        \"samples\": [\n          \"3/18/2016\",\n          \"10/29/2015\",\n          \"8/9/2016\"\n        ],\n        \"semantic_type\": \"\",\n        \"description\": \"\"\n      }\n    }\n  ]\n}"
            }
          },
          "metadata": {},
          "execution_count": 12
        }
      ]
    },
    {
      "cell_type": "code",
      "source": [
        "#Convert dates to datetime format\n",
        "date_cols = ['install_date', 'modification_date', 'decommission_date']  # Columns containing date values\n",
        "for col in date_cols:\n",
        "    df[col] = pd.to_datetime(df[col], errors='coerce')  # Converting string dates to datetime format"
      ],
      "metadata": {
        "id": "NttdVCI8nKLg"
      },
      "execution_count": 13,
      "outputs": []
    },
    {
      "cell_type": "code",
      "source": [
        "# Fill missing values in modification_date with install_date\n",
        "# If no modification, assume it's unchanged since installation\n",
        "df['modification_date'].fillna(df['install_date'], inplace=True)  # Replacing NaN with install_date\n"
      ],
      "metadata": {
        "colab": {
          "base_uri": "https://localhost:8080/"
        },
        "id": "vK6CZnbZnKIr",
        "outputId": "b8d119d2-7967-4860-ea69-34b341295c12"
      },
      "execution_count": 14,
      "outputs": [
        {
          "output_type": "stream",
          "name": "stderr",
          "text": [
            "<ipython-input-14-49b81fd74eac>:3: FutureWarning: A value is trying to be set on a copy of a DataFrame or Series through chained assignment using an inplace method.\n",
            "The behavior will change in pandas 3.0. This inplace method will never work because the intermediate object on which we are setting values always behaves as a copy.\n",
            "\n",
            "For example, when doing 'df[col].method(value, inplace=True)', try using 'df.method({col: value}, inplace=True)' or df[col] = df[col].method(value) instead, to perform the operation inplace on the original object.\n",
            "\n",
            "\n",
            "  df['modification_date'].fillna(df['install_date'], inplace=True)  # Replacing NaN with install_date\n"
          ]
        }
      ]
    },
    {
      "cell_type": "code",
      "source": [
        "# Data Overview\n",
        "print(\"Dataset Info:\")  # Printing dataset information\n",
        "print(df.info())  # Displaying dataset structure\n",
        "print(\"\\nMissing Values:\")  # Printing missing values summary\n",
        "print(df.isnull().sum())  # Displaying count of missing values in each column\n",
        "print(\"\\nBasic Statistics:\")  # Printing basic statistical insights\n",
        "print(df.describe())  # Displaying summary statistics for numerical columns"
      ],
      "metadata": {
        "colab": {
          "base_uri": "https://localhost:8080/"
        },
        "id": "SVWnIti1nKFb",
        "outputId": "1b95a589-b833-489d-eebb-0ec6995a73c7"
      },
      "execution_count": 15,
      "outputs": [
        {
          "output_type": "stream",
          "name": "stdout",
          "text": [
            "Dataset Info:\n",
            "<class 'pandas.core.frame.DataFrame'>\n",
            "RangeIndex: 58 entries, 0 to 57\n",
            "Data columns (total 9 columns):\n",
            " #   Column             Non-Null Count  Dtype         \n",
            "---  ------             --------------  -----         \n",
            " 0   station_id         58 non-null     object        \n",
            " 1   name               58 non-null     object        \n",
            " 2   lat                58 non-null     float64       \n",
            " 3   long               58 non-null     float64       \n",
            " 4   install_date       58 non-null     datetime64[ns]\n",
            " 5   install_dockcount  58 non-null     int64         \n",
            " 6   modification_date  58 non-null     datetime64[ns]\n",
            " 7   current_dockcount  58 non-null     int64         \n",
            " 8   decommission_date  4 non-null      datetime64[ns]\n",
            "dtypes: datetime64[ns](3), float64(2), int64(2), object(2)\n",
            "memory usage: 4.2+ KB\n",
            "None\n",
            "\n",
            "Missing Values:\n",
            "station_id            0\n",
            "name                  0\n",
            "lat                   0\n",
            "long                  0\n",
            "install_date          0\n",
            "install_dockcount     0\n",
            "modification_date     0\n",
            "current_dockcount     0\n",
            "decommission_date    54\n",
            "dtype: int64\n",
            "\n",
            "Basic Statistics:\n",
            "             lat        long                   install_date  \\\n",
            "count  58.000000   58.000000                             58   \n",
            "mean   47.624796 -122.327242  2014-12-08 15:18:37.241379328   \n",
            "min    47.598488 -122.355230            2014-10-13 00:00:00   \n",
            "25%    47.613239 -122.338735            2014-10-13 00:00:00   \n",
            "50%    47.618591 -122.328206            2014-10-13 00:00:00   \n",
            "75%    47.627712 -122.316691            2014-10-13 00:00:00   \n",
            "max    47.666145 -122.284119            2016-08-09 00:00:00   \n",
            "std     0.019066    0.014957                            NaN   \n",
            "\n",
            "       install_dockcount              modification_date  current_dockcount  \\\n",
            "count          58.000000                             58          58.000000   \n",
            "mean           17.586207  2015-02-12 03:43:26.896551680          16.517241   \n",
            "min            12.000000            2014-10-13 00:00:00           0.000000   \n",
            "25%            16.000000            2014-10-13 00:00:00          16.000000   \n",
            "50%            18.000000            2014-10-13 00:00:00          18.000000   \n",
            "75%            18.000000            2015-03-10 18:00:00          18.000000   \n",
            "max            30.000000            2016-08-09 00:00:00          26.000000   \n",
            "std             3.060985                            NaN           5.117021   \n",
            "\n",
            "         decommission_date  \n",
            "count                    4  \n",
            "mean   2016-04-14 06:00:00  \n",
            "min    2015-10-29 00:00:00  \n",
            "25%    2016-02-11 18:00:00  \n",
            "50%    2016-05-10 00:00:00  \n",
            "75%    2016-07-11 12:00:00  \n",
            "max    2016-08-09 00:00:00  \n",
            "std                    NaN  \n"
          ]
        }
      ]
    },
    {
      "cell_type": "code",
      "source": [
        "# Count of active vs. decommissioned stations\n",
        "df['active'] = df['decommission_date'].isna()  # Creating a new column to check active status\n",
        "active_count = df['active'].value_counts()  # Counting active and decommissioned stations"
      ],
      "metadata": {
        "id": "HkBhVxSEnKCW"
      },
      "execution_count": 17,
      "outputs": []
    },
    {
      "cell_type": "code",
      "source": [
        "# Plot Active vs Decommissioned Stations\n",
        "plt.figure(figsize=(8, 6))  # Setting figure size\n",
        "sns.barplot(x=active_count.index, y=active_count.values, palette='viridis')  # Creating bar plot\n",
        "plt.xticks(ticks=[0, 1], labels=['Decommissioned', 'Active'])  # Labeling x-axis\n",
        "plt.ylabel(\"Count\")  # Setting y-axis label\n",
        "plt.title(\"Active vs. Decommissioned Stations\")  # Setting plot title\n",
        "plt.show()  # Displaying the plot"
      ],
      "metadata": {
        "colab": {
          "base_uri": "https://localhost:8080/",
          "height": 655
        },
        "id": "4779khW8nJ-9",
        "outputId": "153fa83a-c5ba-4e3d-eda0-0d8040910c37"
      },
      "execution_count": 19,
      "outputs": [
        {
          "output_type": "stream",
          "name": "stderr",
          "text": [
            "<ipython-input-19-d86543e9490f>:3: FutureWarning: \n",
            "\n",
            "Passing `palette` without assigning `hue` is deprecated and will be removed in v0.14.0. Assign the `x` variable to `hue` and set `legend=False` for the same effect.\n",
            "\n",
            "  sns.barplot(x=active_count.index, y=active_count.values, palette='viridis')  # Creating bar plot\n"
          ]
        },
        {
          "output_type": "display_data",
          "data": {
            "text/plain": [
              "<Figure size 800x600 with 1 Axes>"
            ],
            "image/png": "[encoded data removed]"
          },
          "metadata": {}
        }
      ]
    },
    {
      "cell_type": "code",
      "source": [
        "# Installations Over Time\n",
        "plt.figure(figsize=(12, 6))  # Setting figure size\n",
        "df['install_date'].dt.year.value_counts().sort_index().plot(kind='bar', color='purple')  # Creating bar plot for installations\n",
        "plt.xlabel(\"Year\")  # Labeling x-axis\n",
        "plt.ylabel(\"Number of Installations\")  # Labeling y-axis\n",
        "plt.title(\"Bike Station Installations Over Time\")  # Setting plot title\n",
        "plt.show()  # Displaying the plot"
      ],
      "metadata": {
        "colab": {
          "base_uri": "https://localhost:8080/",
          "height": 585
        },
        "id": "Ve0qk7hMoETZ",
        "outputId": "bb024f53-6f38-4b45-a8fd-c11f1cc2aa8e"
      },
      "execution_count": 32,
      "outputs": [
        {
          "output_type": "display_data",
          "data": {
            "text/plain": [
              "<Figure size 1200x600 with 1 Axes>"
            ],
            "image/png": "[encoded data removed]"
          },
          "metadata": {}
        }
      ]
    },
    {
      "cell_type": "code",
      "source": [
        "# Dock count distribution\n",
        "plt.figure(figsize=(10, 5))  # Setting figure size\n",
        "sns.histplot(df['install_dockcount'], bins=10, kde=True, color='blue')  # Creating histogram with KDE\n",
        "plt.xlabel(\"Dock Count\")  # Labeling x-axis\n",
        "plt.ylabel(\"Frequency\")  # Labeling y-axis\n",
        "plt.title(\"Distribution of Dock Counts\")  # Setting plot title\n",
        "plt.show()  # Displaying the plot"
      ],
      "metadata": {
        "colab": {
          "base_uri": "https://localhost:8080/",
          "height": 487
        },
        "id": "ciqI0VbPoEP_",
        "outputId": "022de365-e92c-4ab6-fd92-80ce779a06f5"
      },
      "execution_count": 31,
      "outputs": [
        {
          "output_type": "display_data",
          "data": {
            "text/plain": [
              "<Figure size 1000x500 with 1 Axes>"
            ],
            "image/png": "[encoded data removed]"
          },
          "metadata": {}
        }
      ]
    },
    {
      "cell_type": "code",
      "source": [
        "# Map visualization of stations\n",
        "m = folium.Map(location=[df['lat'].mean(), df['long'].mean()], zoom_start=12)  # Creating a map centered at the average lat/long\n",
        "for _, row in df.iterrows():  # Iterating over each row in the dataset\n",
        "    folium.Marker([row['lat'], row['long']], popup=row['name']).add_to(m)  # Adding station markers to the map\n",
        "m.save(\"bike_stations_map.html\")  # Saving the map as an HTML file"
      ],
      "metadata": {
        "id": "pELp4KuMoEF2"
      },
      "execution_count": 24,
      "outputs": []
    },
    {
      "cell_type": "code",
      "source": [
        "# Average dock count\n",
        "avg_dock = df['install_dockcount'].mean()  # Calculating average dock count\n",
        "print(f\"\\nAverage Dock Count Per Station: {avg_dock:.2f}\")  # Printing the result"
      ],
      "metadata": {
        "colab": {
          "base_uri": "https://localhost:8080/"
        },
        "id": "OJPvxAzYoECS",
        "outputId": "6a0d5229-6ff9-4b03-c281-4cad14da1278"
      },
      "execution_count": 25,
      "outputs": [
        {
          "output_type": "stream",
          "name": "stdout",
          "text": [
            "\n",
            "Average Dock Count Per Station: 17.59\n"
          ]
        }
      ]
    },
    {
      "cell_type": "code",
      "source": [
        "# Correlation between dock count and active status\n",
        "plt.figure(figsize=(10, 8))  # Setting figure size\n",
        "sns.boxplot(x=df['active'], y=df['install_dockcount'], palette='coolwarm')  # Creating boxplot\n",
        "plt.xticks(ticks=[0, 1], labels=['Decommissioned', 'Active'])  # Labeling x-axis\n",
        "plt.xlabel(\"Station Status\")  # Setting x-axis label\n",
        "plt.ylabel(\"Dock Count\")  # Setting y-axis label\n",
        "plt.title(\"Dock Count vs. Station Status\")  # Setting plot title\n",
        "plt.show()  # Displaying the plot"
      ],
      "metadata": {
        "colab": {
          "base_uri": "https://localhost:8080/",
          "height": 809
        },
        "id": "-NdvRZzOoD_e",
        "outputId": "6f8bc68a-85ae-4de0-c2e6-992e519013fe"
      },
      "execution_count": 36,
      "outputs": [
        {
          "output_type": "stream",
          "name": "stderr",
          "text": [
            "<ipython-input-36-618bb727c5c7>:3: FutureWarning: \n",
            "\n",
            "Passing `palette` without assigning `hue` is deprecated and will be removed in v0.14.0. Assign the `x` variable to `hue` and set `legend=False` for the same effect.\n",
            "\n",
            "  sns.boxplot(x=df['active'], y=df['install_dockcount'], palette='coolwarm')  # Creating boxplot\n"
          ]
        },
        {
          "output_type": "display_data",
          "data": {
            "text/plain": [
              "<Figure size 1000x800 with 1 Axes>"
            ],
            "image/png": "[encoded data removed]"
          },
          "metadata": {}
        }
      ]
    },
    {
      "cell_type": "markdown",
      "source": [
        "**CONCLUSION - BIKE STATION ANALYSIS**"
      ],
      "metadata": {
        "id": "CLpLYl1prScL"
      }
    },
    {
      "cell_type": "markdown",
      "source": [
        "After analyzing the bike station data, a few clear patterns emerged. Most stations are still active, which suggests that the bike-sharing system is growing and being maintained well. However, some stations have been decommissioned, possibly due to low demand, location inefficiencies, or operational challenges.\n",
        "\n",
        "The installation trends show that there were certain peak years when many stations were set up, followed by a decline. This could mean that the city initially invested heavily in expanding the network but later slowed down, either due to market saturation or shifting priorities.\n",
        "\n",
        "Dock count distribution varies, with most stations having a moderate number of docks. However, the number of docks alone does not determine whether a station remains active. Factors like location, demand, and accessibility seem to play a bigger role in a station’s success.\n",
        "\n",
        "Looking at the geographical distribution, stations are densely packed in some areas while others are more isolated. This suggests that certain regions have a much higher demand for bike-sharing, while others may need a reevaluation of whether the service is necessary there."
      ],
      "metadata": {
        "id": "IMQt5tpirmY5"
      }
    },
    {
      "cell_type": "markdown",
      "source": [
        "By optimizing station locations, expanding based on demand, and allocating resources effectively, the system can operate more efficiently and provide a better user experience.\n"
      ],
      "metadata": {
        "id": "K_F9bVjrs0nc"
      }
    }
  ]
}